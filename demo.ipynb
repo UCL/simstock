{
 "cells": [
  {
   "attachments": {},
   "cell_type": "markdown",
   "metadata": {},
   "source": [
    "# Refactored Simstock demo session\n",
    "\n",
    "---\n",
    "\n",
    "## Plan\n",
    "\n",
    "1) Quick into to code\n",
    "2) Installation guide\n",
    "3) Demo 1: simple test data\n",
    "4) Demo 2: larger geopackage data\n",
    "5) Demo 3: geopackage data with missing fields\n",
    "6) Discussion\n",
    "\n",
    "---"
   ]
  },
  {
   "attachments": {},
   "cell_type": "markdown",
   "metadata": {},
   "source": [
    "## Quick overview and basic usage \n",
    "\n",
    "Simstock broadly does two things: preprocesses data, and then saves it to an idf file. The refactoring has seperated these two actions into two base objects: the ``SimstockDataframe`` and the ``IDFmanager``. Basic workflow:"
   ]
  },
  {
   "cell_type": "code",
   "execution_count": null,
   "metadata": {},
   "outputs": [],
   "source": [
    "import simstock as sim\n",
    "\n",
    "# Read in data\n",
    "sdf = sim.read_csv(\"tests/data/test_data.csv\")\n",
    "\n",
    "\n",
    "# # Adjust settings if needed:\n",
    "# sdf.settings.printidf()\n",
    "\n",
    "# Process it\n",
    "sdf.preprocessing()\n",
    "\n",
    "# Create simulation IDF\n",
    "simulation = sim.IDFmanager(sdf)\n",
    "simulation.create_model_idf()\n",
    "\n",
    "# Have a look at it\n",
    "# simulation.idf.printidf()"
   ]
  },
  {
   "attachments": {},
   "cell_type": "markdown",
   "metadata": {},
   "source": [
    "## Installation\n",
    "\n",
    "This will change! \n",
    "\n",
    "For now, install poetry. \n",
    "\n",
    "Then:\n",
    "\n",
    "- Clone from github\n",
    "- Run poetry install\n",
    "\n",
    "---\n",
    "\n",
    "## First demo\n",
    "\n",
    "- Create a file script.py in your directory.\n",
    "- Read in data:"
   ]
  },
  {
   "cell_type": "code",
   "execution_count": null,
   "metadata": {},
   "outputs": [],
   "source": [
    "import simstock as sim\n",
    "\n",
    "sdf = sim.read_csv(\"tests/data/test_data.csv\")"
   ]
  },
  {
   "attachments": {},
   "cell_type": "markdown",
   "metadata": {},
   "source": [
    "Play around with it:\n",
    "\n",
    "- Plot\n",
    "- Access fields\n"
   ]
  },
  {
   "cell_type": "code",
   "execution_count": null,
   "metadata": {},
   "outputs": [],
   "source": [
    "print(sdf['osgb'])"
   ]
  },
  {
   "cell_type": "code",
   "execution_count": null,
   "metadata": {},
   "outputs": [],
   "source": [
    "import matplotlib.pyplot as plt\n",
    "\n",
    "sim.plot(sdf)\n",
    "plt.show()"
   ]
  },
  {
   "cell_type": "code",
   "execution_count": null,
   "metadata": {},
   "outputs": [],
   "source": [
    "print(sdf.materials)"
   ]
  },
  {
   "cell_type": "code",
   "execution_count": null,
   "metadata": {},
   "outputs": [],
   "source": [
    "sdf.settings.printidf()"
   ]
  },
  {
   "attachments": {},
   "cell_type": "markdown",
   "metadata": {},
   "source": [
    "The ``SimstockDataframe`` can be accessed in the same manner as a Pandas dataframe. E.g."
   ]
  },
  {
   "cell_type": "code",
   "execution_count": null,
   "metadata": {},
   "outputs": [],
   "source": [
    "print(sdf.loc[sdf[\"osgb\"] == \"osgb1000005307038\", \"polygon\"])"
   ]
  },
  {
   "cell_type": "code",
   "execution_count": null,
   "metadata": {},
   "outputs": [],
   "source": [
    "print(sdf.columns)"
   ]
  },
  {
   "attachments": {},
   "cell_type": "markdown",
   "metadata": {},
   "source": [
    "- Now do some processing (see what error occurs):"
   ]
  },
  {
   "cell_type": "code",
   "execution_count": null,
   "metadata": {},
   "outputs": [],
   "source": [
    "# Create simulation IDF\n",
    "simulation = sim.IDFmanager(sdf)\n",
    "simulation.create_model_idf()\n",
    "\n",
    "# Have a look at it\n",
    "simulation.idf.printidf()"
   ]
  },
  {
   "cell_type": "code",
   "execution_count": null,
   "metadata": {},
   "outputs": [],
   "source": [
    "# Remember to pre-process\n",
    "sdf.preprocessing()\n",
    "\n",
    "# Create simulation IDF\n",
    "simulation = sim.IDFmanager(sdf)\n",
    "simulation.create_model_idf()\n",
    "\n",
    "# Have a look at it\n",
    "simulation.idf.printidf()"
   ]
  },
  {
   "attachments": {},
   "cell_type": "markdown",
   "metadata": {},
   "source": [
    "## Finer grained control "
   ]
  },
  {
   "cell_type": "code",
   "execution_count": null,
   "metadata": {},
   "outputs": [],
   "source": [
    "# Set kwargs\n",
    "kwargs = {\"tol\" : 0.1}\n",
    "\n",
    "# Read in data\n",
    "sdf = sim.read_csv(\"tests/data/test_data.csv\")\n",
    " \n",
    "# Ensure exteriors and interiors are oriented correctly\n",
    "sdf.orientate_polygons(**kwargs)\n",
    "\n",
    "# Remove duplicate coordinates from polygons\n",
    "sdf.remove_duplicate_coords(**kwargs)\n",
    "\n",
    "# Check for polygons intersecting each other\n",
    "sdf.polygon_topology(**kwargs)\n",
    "\n",
    "# Assess which polygons need simplifying\n",
    "sdf.polygon_tolerance(**kwargs)\n",
    "\n",
    "# Simplify relevant polygons\n",
    "sdf.polygon_simplification(**kwargs)\n",
    "\n",
    "# Check again that polygons are not intersecting each other\n",
    "sdf.polygon_topology(**kwargs)\n",
    "\n",
    "# Remove collinear points, determine exterior surfaces coordinates\n",
    "sdf.collinear_exterior(**kwargs)\n",
    "\n",
    "# Final check that nothing is interecting after the above processing\n",
    "# It pays to repeatedly check this\n",
    "sdf.polygon_topology(**kwargs)\n",
    "\n",
    "# Check for built islands\n",
    "sdf.bi_adj()\n",
    "\n",
    "# We now have proprocessed data ready to be turned into an IDF file\n",
    "# To turn it into an IDF file, we can either call create_idf,\n",
    "# or instantiate an IDFcreator object for finer grained control:\n",
    "idfkwargs = {\"min_avail_height\" : 80}\n",
    "ob = sim.IDFmanager(sdf)\n",
    " \n",
    "# Move all objects towards origin\n",
    "ob.move_towards_origin(**idfkwargs)\n",
    "\n",
    "# Create shading objects\n",
    "ob.create_shading_objects(**idfkwargs)\n",
    " \n",
    "# Create thermal zones based on floor number\n",
    "ob.create_thermal_zones(**idfkwargs)\n",
    "\n",
    "# Compute ideal load systems\n",
    "ob.create_load_systems(**idfkwargs)\n",
    "\n",
    "# All relevant data for an E+ run have now been created\n",
    "# The results can be saved to a file,\n",
    "# Or kept as an eppy idf object for further processing:\n",
    "ob.idf.printidf()"
   ]
  },
  {
   "attachments": {},
   "cell_type": "markdown",
   "metadata": {},
   "source": [
    "## Demo 2 \n",
    "\n",
    "Using geopackage data, and build custom settings."
   ]
  },
  {
   "cell_type": "code",
   "execution_count": null,
   "metadata": {},
   "outputs": [],
   "source": [
    "import os\n",
    "\n",
    "# Path to test data\n",
    "s7data = os.path.join(\"tests\", \"data\", \"S7_data.gpkg\")\n",
    "\n",
    "# Layer names\n",
    "layers = sim.get_gpkg_layer_names(s7data)\n",
    "print(layers)\n",
    "\n",
    "# Initialise\n",
    "sdf = sim.read_geopackage_layer(s7data, \"test_full\", uid_column_name=\"UID\", index=\"fid\", use_base=True)\n",
    "\n",
    "sim.plot(sdf)\n",
    "plt.show()\n"
   ]
  },
  {
   "attachments": {},
   "cell_type": "markdown",
   "metadata": {},
   "source": [
    "Create custom csvs for inputting more settings:"
   ]
  },
  {
   "cell_type": "code",
   "execution_count": null,
   "metadata": {},
   "outputs": [],
   "source": [
    "sdf.create_csv_folder(dirname=\"simulation_settings\")\n",
    "sdf.override_settings_with_csv()\n",
    "\n",
    "sdf.preprocessing()\n",
    "\n",
    "print(sdf.columns)\n",
    "\n",
    "# Create simulation IDF\n",
    "simulation = sim.IDFmanager(sdf)\n",
    "simulation.create_model_idf_with_bi()\n",
    "\n",
    "# Have a look at it\n",
    "simulation.idf.printidf()\n"
   ]
  },
  {
   "attachments": {},
   "cell_type": "markdown",
   "metadata": {},
   "source": [
    "## Demo 3\n",
    "\n",
    "Incomplete data"
   ]
  },
  {
   "cell_type": "code",
   "execution_count": null,
   "metadata": {},
   "outputs": [],
   "source": [
    "# Initialise\n",
    "sdf = sim.read_geopackage_layer(s7data, \"test_with_data\", uid_column_name=\"id\", index=\"fid\", use_base=True)"
   ]
  },
  {
   "cell_type": "code",
   "execution_count": null,
   "metadata": {},
   "outputs": [],
   "source": [
    "print(sdf.columns)"
   ]
  },
  {
   "attachments": {},
   "cell_type": "markdown",
   "metadata": {},
   "source": [
    "## Try and populate data!\n",
    "\n",
    "---"
   ]
  },
  {
   "attachments": {},
   "cell_type": "markdown",
   "metadata": {},
   "source": [
    "# Finale: discussion\n",
    "\n",
    "- Opinions\n",
    "- Further functionality\n",
    "- Overriding functionality and best practices\n",
    "- Hosting documentation\n"
   ]
  }
 ],
 "metadata": {
  "kernelspec": {
   "display_name": "simstock-8fUkNHEv-py3.11",
   "language": "python",
   "name": "python3"
  },
  "language_info": {
   "codemirror_mode": {
    "name": "ipython",
    "version": 3
   },
   "file_extension": ".py",
   "mimetype": "text/x-python",
   "name": "python",
   "nbconvert_exporter": "python",
   "pygments_lexer": "ipython3",
   "version": "3.11.3"
  },
  "orig_nbformat": 4
 },
 "nbformat": 4,
 "nbformat_minor": 2
}
